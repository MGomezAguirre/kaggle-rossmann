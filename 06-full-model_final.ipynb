{
 "cells": [
  {
   "cell_type": "code",
   "execution_count": 1,
   "metadata": {},
   "outputs": [],
   "source": [
    "#! pip install mlflow\n",
    "#!pip install tensorflow.compat.v1"
   ]
  },
  {
   "cell_type": "code",
   "execution_count": 2,
   "metadata": {},
   "outputs": [],
   "source": [
    "#import mlflow.tensorflow\n",
    "#mlflow.autolog()\n",
    "#! mlflow ui"
   ]
  },
  {
   "cell_type": "code",
   "execution_count": 1,
   "metadata": {},
   "outputs": [],
   "source": [
    "from tensorflow.compat.v1 import ConfigProto\n",
    "from tensorflow.compat.v1 import InteractiveSession\n",
    "config = ConfigProto()\n",
    "config.gpu_options.allow_growth = True\n",
    "session = InteractiveSession(config=config)"
   ]
  },
  {
   "cell_type": "code",
   "execution_count": 2,
   "metadata": {},
   "outputs": [],
   "source": [
    "import pandas as pd\n",
    "import numpy as np\n",
    "import datetime\n",
    "from pandas_summary import DataFrameSummary"
   ]
  },
  {
   "cell_type": "code",
   "execution_count": 3,
   "metadata": {},
   "outputs": [],
   "source": [
    "from tensorflow.keras.utils import to_categorical"
   ]
  },
  {
   "cell_type": "code",
   "execution_count": 57,
   "metadata": {},
   "outputs": [],
   "source": [
    "df = pd.read_feather('train_normalized_datos.fth')\n",
    "df_test = pd.read_feather('test_normalized_datos.fth')"
   ]
  },
  {
   "cell_type": "code",
   "execution_count": 58,
   "metadata": {},
   "outputs": [],
   "source": [
    "cat_vars = ['Store', 'DayOfWeek', 'Year', 'Month', 'Day', 'StateHoliday', 'CompetitionMonthsOpen', 'Promo2Weeks', \n",
    "            'StoreType', 'Assortment', 'PromoInterval', 'CompetitionOpenSinceYear', 'Promo2SinceYear', 'State', \n",
    "            'Week', 'Events', 'Promo_fw', 'Promo_bw', 'StateHoliday_bool_fw', 'StateHoliday_bool_bw', 'SchoolHoliday_fw', 'SchoolHoliday_bw']"
   ]
  },
  {
   "cell_type": "code",
   "execution_count": 59,
   "metadata": {},
   "outputs": [
    {
     "data": {
      "text/plain": [
       "['Store',\n",
       " 'DayOfWeek',\n",
       " 'Year',\n",
       " 'Month',\n",
       " 'Day',\n",
       " 'StateHoliday',\n",
       " 'CompetitionMonthsOpen',\n",
       " 'Promo2Weeks',\n",
       " 'StoreType',\n",
       " 'Assortment',\n",
       " 'PromoInterval',\n",
       " 'CompetitionOpenSinceYear',\n",
       " 'Promo2SinceYear',\n",
       " 'State',\n",
       " 'Week',\n",
       " 'Events',\n",
       " 'Promo_fw',\n",
       " 'Promo_bw',\n",
       " 'StateHoliday_bool_fw',\n",
       " 'StateHoliday_bool_bw',\n",
       " 'SchoolHoliday_fw',\n",
       " 'SchoolHoliday_bw']"
      ]
     },
     "execution_count": 59,
     "metadata": {},
     "output_type": "execute_result"
    }
   ],
   "source": [
    "cat_vars"
   ]
  },
  {
   "cell_type": "code",
   "execution_count": 60,
   "metadata": {},
   "outputs": [
    {
     "data": {
      "text/plain": [
       "count    844338.000000\n",
       "mean          2.695590\n",
       "std           1.782725\n",
       "min           0.000000\n",
       "25%           1.000000\n",
       "50%           3.000000\n",
       "75%           4.000000\n",
       "max           5.000000\n",
       "Name: Promo_fw, dtype: float64"
      ]
     },
     "execution_count": 60,
     "metadata": {},
     "output_type": "execute_result"
    }
   ],
   "source": [
    "df['Promo_fw'].describe()"
   ]
  },
  {
   "cell_type": "code",
   "execution_count": 61,
   "metadata": {},
   "outputs": [],
   "source": [
    "contin_vars = ['CompetitionDistance',\n",
    "               'Max_TemperatureC', 'Precipitationmm',\n",
    "               'Max_Humidity', 'CloudCover', 'trend',\n",
    "               'AfterStateHoliday_bool', 'Promo']\n",
    "\n",
    "\n",
    "#contin_vars = ['BeforeStateHoliday_bool', 'Max_TemperatureC']"
   ]
  },
  {
   "cell_type": "code",
   "execution_count": null,
   "metadata": {},
   "outputs": [],
   "source": []
  },
  {
   "cell_type": "code",
   "execution_count": 62,
   "metadata": {},
   "outputs": [],
   "source": [
    "uniques = DataFrameSummary(df[cat_vars]).summary().loc[['uniques']]\n"
   ]
  },
  {
   "cell_type": "code",
   "execution_count": 63,
   "metadata": {},
   "outputs": [
    {
     "data": {
      "text/html": [
       "<div>\n",
       "<style scoped>\n",
       "    .dataframe tbody tr th:only-of-type {\n",
       "        vertical-align: middle;\n",
       "    }\n",
       "\n",
       "    .dataframe tbody tr th {\n",
       "        vertical-align: top;\n",
       "    }\n",
       "\n",
       "    .dataframe thead th {\n",
       "        text-align: right;\n",
       "    }\n",
       "</style>\n",
       "<table border=\"1\" class=\"dataframe\">\n",
       "  <thead>\n",
       "    <tr style=\"text-align: right;\">\n",
       "      <th></th>\n",
       "      <th>uniques</th>\n",
       "    </tr>\n",
       "  </thead>\n",
       "  <tbody>\n",
       "    <tr>\n",
       "      <th>Store</th>\n",
       "      <td>1115</td>\n",
       "    </tr>\n",
       "    <tr>\n",
       "      <th>DayOfWeek</th>\n",
       "      <td>7</td>\n",
       "    </tr>\n",
       "    <tr>\n",
       "      <th>Year</th>\n",
       "      <td>3</td>\n",
       "    </tr>\n",
       "    <tr>\n",
       "      <th>Month</th>\n",
       "      <td>12</td>\n",
       "    </tr>\n",
       "    <tr>\n",
       "      <th>Day</th>\n",
       "      <td>31</td>\n",
       "    </tr>\n",
       "    <tr>\n",
       "      <th>StateHoliday</th>\n",
       "      <td>4</td>\n",
       "    </tr>\n",
       "    <tr>\n",
       "      <th>CompetitionMonthsOpen</th>\n",
       "      <td>25</td>\n",
       "    </tr>\n",
       "    <tr>\n",
       "      <th>Promo2Weeks</th>\n",
       "      <td>26</td>\n",
       "    </tr>\n",
       "    <tr>\n",
       "      <th>StoreType</th>\n",
       "      <td>4</td>\n",
       "    </tr>\n",
       "    <tr>\n",
       "      <th>Assortment</th>\n",
       "      <td>3</td>\n",
       "    </tr>\n",
       "    <tr>\n",
       "      <th>PromoInterval</th>\n",
       "      <td>4</td>\n",
       "    </tr>\n",
       "    <tr>\n",
       "      <th>CompetitionOpenSinceYear</th>\n",
       "      <td>21</td>\n",
       "    </tr>\n",
       "    <tr>\n",
       "      <th>Promo2SinceYear</th>\n",
       "      <td>8</td>\n",
       "    </tr>\n",
       "    <tr>\n",
       "      <th>State</th>\n",
       "      <td>12</td>\n",
       "    </tr>\n",
       "    <tr>\n",
       "      <th>Week</th>\n",
       "      <td>52</td>\n",
       "    </tr>\n",
       "    <tr>\n",
       "      <th>Events</th>\n",
       "      <td>22</td>\n",
       "    </tr>\n",
       "    <tr>\n",
       "      <th>Promo_fw</th>\n",
       "      <td>6</td>\n",
       "    </tr>\n",
       "    <tr>\n",
       "      <th>Promo_bw</th>\n",
       "      <td>6</td>\n",
       "    </tr>\n",
       "    <tr>\n",
       "      <th>StateHoliday_bool_fw</th>\n",
       "      <td>3</td>\n",
       "    </tr>\n",
       "    <tr>\n",
       "      <th>StateHoliday_bool_bw</th>\n",
       "      <td>3</td>\n",
       "    </tr>\n",
       "    <tr>\n",
       "      <th>SchoolHoliday_fw</th>\n",
       "      <td>8</td>\n",
       "    </tr>\n",
       "    <tr>\n",
       "      <th>SchoolHoliday_bw</th>\n",
       "      <td>8</td>\n",
       "    </tr>\n",
       "  </tbody>\n",
       "</table>\n",
       "</div>"
      ],
      "text/plain": [
       "                         uniques\n",
       "Store                       1115\n",
       "DayOfWeek                      7\n",
       "Year                           3\n",
       "Month                         12\n",
       "Day                           31\n",
       "StateHoliday                   4\n",
       "CompetitionMonthsOpen         25\n",
       "Promo2Weeks                   26\n",
       "StoreType                      4\n",
       "Assortment                     3\n",
       "PromoInterval                  4\n",
       "CompetitionOpenSinceYear      21\n",
       "Promo2SinceYear                8\n",
       "State                         12\n",
       "Week                          52\n",
       "Events                        22\n",
       "Promo_fw                       6\n",
       "Promo_bw                       6\n",
       "StateHoliday_bool_fw           3\n",
       "StateHoliday_bool_bw           3\n",
       "SchoolHoliday_fw               8\n",
       "SchoolHoliday_bw               8"
      ]
     },
     "execution_count": 63,
     "metadata": {},
     "output_type": "execute_result"
    }
   ],
   "source": [
    "uniques.T"
   ]
  },
  {
   "cell_type": "code",
   "execution_count": 17,
   "metadata": {},
   "outputs": [],
   "source": [
    "#np.log(7)"
   ]
  },
  {
   "cell_type": "markdown",
   "metadata": {},
   "source": [
    "# Asignación de dimensión de embeddings"
   ]
  },
  {
   "cell_type": "code",
   "execution_count": 64,
   "metadata": {},
   "outputs": [],
   "source": [
    "cat_var_dict = {'Store': 50, 'DayOfWeek': 25, 'Year': 8, 'Month': 4,\n",
    "                'Day': 8, 'StateHoliday': 2, 'CompetitionMonthsOpen': 2,\n",
    "                'Promo2Weeks': 2, 'StoreType': 3, 'Assortment': 3, 'PromoInterval': 3,\n",
    "                'CompetitionOpenSinceYear': 4, 'Promo2SinceYear': 4, 'State': 6,\n",
    "                'Week': 25, 'Events': 4, 'Promo_fw': 1,\n",
    "                'Promo_bw': 1, 'StateHoliday_bool_fw': 1,\n",
    "                'StateHoliday_bool_bw': 1, 'SchoolHoliday_fw': 1,\n",
    "                'SchoolHoliday_bw': 1}"
   ]
  },
  {
   "cell_type": "code",
   "execution_count": 65,
   "metadata": {},
   "outputs": [
    {
     "name": "stdout",
     "output_type": "stream",
     "text": [
      "Store 50 1115 [   0    1    2 ... 1112 1113 1114]\n",
      "\n",
      "DayOfWeek 25 7 [0 1 2 3 4 5 6]\n",
      "\n",
      "Year 8 3 [0 1 2]\n",
      "\n",
      "Month 4 12 [ 0  1  2  3  4  5  6  7  8  9 10 11]\n",
      "\n",
      "Day 8 31 [ 0  1  2  3  4  5  6  7  8  9 10 11 12 13 14 15 16 17 18 19 20 21 22 23\n",
      " 24 25 26 27 28 29 30]\n",
      "\n",
      "StateHoliday 2 4 [0 1 2 3]\n",
      "\n",
      "CompetitionMonthsOpen 2 25 [ 0  1  2  3  4  5  6  7  8  9 10 11 12 13 14 15 16 17 18 19 20 21 22 23\n",
      " 24]\n",
      "\n",
      "Promo2Weeks 2 26 [ 0  1  2  3  4  5  6  7  8  9 10 11 12 13 14 15 16 17 18 19 20 21 22 23\n",
      " 24 25]\n",
      "\n",
      "StoreType 3 4 [0 1 2 3]\n",
      "\n",
      "Assortment 3 3 [0 1 2]\n",
      "\n",
      "PromoInterval 3 4 [0 1 2 3]\n",
      "\n",
      "CompetitionOpenSinceYear 4 21 [ 0  1  2  3  4  5  6  7  8  9 10 11 12 13 14 15 16 17 18 19 20]\n",
      "\n",
      "Promo2SinceYear 4 8 [0 1 2 3 4 5 6 7]\n",
      "\n",
      "State 6 12 [ 0  1  2  3  4  5  6  7  8  9 10 11]\n",
      "\n",
      "Week 25 52 [ 0  1  2  3  4  5  6  7  8  9 10 11 12 13 14 15 16 17 18 19 20 21 22 23\n",
      " 24 25 26 27 28 29 30 31 32 33 34 35 36 37 38 39 40 41 42 43 44 45 46 47\n",
      " 48 49 50 51]\n",
      "\n",
      "Events 4 22 [ 0  1  2  3  4  5  6  7  8  9 10 11 12 13 14 15 16 17 18 19 20 21]\n",
      "\n",
      "Promo_fw 1 6 [0 1 2 3 4 5]\n",
      "\n",
      "Promo_bw 1 6 [0 1 2 3 4 5]\n",
      "\n",
      "StateHoliday_bool_fw 1 3 [0 1 2]\n",
      "\n",
      "StateHoliday_bool_bw 1 3 [0 1 2]\n",
      "\n",
      "SchoolHoliday_fw 1 8 [0 1 2 3 4 5 6 7]\n",
      "\n",
      "SchoolHoliday_bw 1 8 [0 1 2 3 4 5 6 7]\n",
      "\n"
     ]
    }
   ],
   "source": [
    "for v in cat_vars:\n",
    "    uniques_ = df[v].unique()\n",
    "    uniques_.sort()\n",
    "    print(v, cat_var_dict[v], len(uniques_), uniques_)\n",
    "    print()"
   ]
  },
  {
   "cell_type": "markdown",
   "metadata": {},
   "source": [
    "# Definición de modelo"
   ]
  },
  {
   "cell_type": "code",
   "execution_count": 66,
   "metadata": {},
   "outputs": [],
   "source": [
    "add_customers = True\n",
    "log_output = True\n",
    "output_activation = 'linear'"
   ]
  },
  {
   "cell_type": "code",
   "execution_count": 67,
   "metadata": {},
   "outputs": [],
   "source": [
    "from tensorflow.keras.models import Model\n",
    "from tensorflow.keras.callbacks import ModelCheckpoint, ReduceLROnPlateau,EarlyStopping\n",
    "from tensorflow.keras.optimizers import Adam\n",
    "from tensorflow.keras.layers import Embedding, Input, Flatten, Concatenate, Dense, BatchNormalization, Activation, LeakyReLU, Dropout\n",
    "from tensorflow.keras.regularizers import l2"
   ]
  },
  {
   "cell_type": "code",
   "execution_count": 68,
   "metadata": {},
   "outputs": [
    {
     "data": {
      "text/plain": [
       "uniques    1115\n",
       "Name: Store, dtype: object"
      ]
     },
     "execution_count": 68,
     "metadata": {},
     "output_type": "execute_result"
    }
   ],
   "source": [
    "uniques[\"Store\"]\n"
   ]
  },
  {
   "cell_type": "code",
   "execution_count": 69,
   "metadata": {},
   "outputs": [],
   "source": [
    "def get_cat_vars_model(cat_vars, uniques, cat_var_dict):\n",
    "    cat_vars_embed_outs = []\n",
    "    cat_var_inputs = []\n",
    "    for cat_var in cat_vars:\n",
    "        cat_var_in = Input(shape=(1,), name=f\"{cat_var}_input\")\n",
    "        cat_var_inputs.append(cat_var_in)\n",
    "        embed_out = Embedding(uniques[cat_var][0], cat_var_dict[cat_var], name=f'{cat_var}_Embed')(cat_var_in)\n",
    "        flatten_out = Flatten(name=f\"{cat_var}_flat\")(embed_out)\n",
    "        cat_vars_embed_outs.append(flatten_out)\n",
    "    return cat_var_inputs, cat_vars_embed_outs\n",
    "\n",
    "def get_cont_vars_input(contin_vars, dense_layer=False):\n",
    "    cont_vars_inputs = []\n",
    "    cont_vars_outputs = []\n",
    "    for cont_var in contin_vars:\n",
    "        cont_var_in = Input(shape=(1,), name=f\"{cont_var}_input\")\n",
    "        cont_vars_inputs.append(cont_var_in)\n",
    "        if dense_layer:\n",
    "            cont_var_out = Dense(1, name=f\"{cont_var}_input\", activation = 'linear')(cont_var_in)\n",
    "            cont_vars_outputs.append(cont_var_out)\n",
    "        else:\n",
    "            cont_vars_outputs.append(cont_var_in)\n",
    "    return cont_vars_inputs, cont_vars_outputs"
   ]
  },
  {
   "cell_type": "code",
   "execution_count": 70,
   "metadata": {},
   "outputs": [],
   "source": [
    "cat_var_inputs, cat_vars_embed_outs = get_cat_vars_model(cat_vars, uniques, cat_var_dict)\n",
    "cont_vars_inputs,  cont_vars_outs= get_cont_vars_input(contin_vars)"
   ]
  },
  {
   "cell_type": "code",
   "execution_count": 28,
   "metadata": {},
   "outputs": [],
   "source": [
    "# Descomentar para ver resultados\n",
    "#cat_vars_embed_outs\n",
    "#cat_var_inputs\n",
    "#cont_vars_inputs\n",
    "# cont_vars_outs"
   ]
  },
  {
   "cell_type": "code",
   "execution_count": 71,
   "metadata": {},
   "outputs": [],
   "source": [
    "first_hidden_units = 1000\n",
    "second_hidden_units = 500\n",
    "l2_lambda = 0.0001\n",
    "merged = Concatenate(name='All_Concatenate')(cat_vars_embed_outs + cont_vars_inputs)\n",
    "x = Dense(first_hidden_units, kernel_initializer=\"uniform\", kernel_regularizer=l2(l2_lambda))(merged)\n",
    "x = BatchNormalization()(x)\n",
    "#x = Activation('relu')(x)\n",
    "x = LeakyReLU()(x)\n",
    "x = Dropout(0.02)(x)\n",
    "x = Dense(second_hidden_units, kernel_initializer=\"uniform\", kernel_regularizer=l2(l2_lambda))(x)\n",
    "# x = BatchNormalization()(x)\n",
    "x = Activation('relu')(x)\n",
    "# x = LeakyReLU()(x)\n",
    "\n",
    "x = Dense(second_hidden_units, kernel_initializer=\"uniform\", kernel_regularizer=l2(l2_lambda))(x)\n",
    "# x = BatchNormalization()(x)\n",
    "x = Activation('relu')(x)\n",
    "\n",
    "x = Dense(second_hidden_units, kernel_initializer=\"uniform\", kernel_regularizer=l2(l2_lambda))(x)\n",
    "# x = BatchNormalization()(x)\n",
    "x = Activation('relu')(x)\n",
    "\n",
    "output_1 = Dense(1, name='Sales', activation=output_activation)(x)\n",
    "output_2 = Dense(1, name='Customers', activation=output_activation)(x)"
   ]
  },
  {
   "cell_type": "code",
   "execution_count": 72,
   "metadata": {},
   "outputs": [],
   "source": [
    "if add_customers:\n",
    "    model = Model(cat_var_inputs + cont_vars_inputs, [output_1, output_2])\n",
    "else: \n",
    "    model = Model(cat_var_inputs + cont_vars_inputs, [output_1])"
   ]
  },
  {
   "cell_type": "code",
   "execution_count": 73,
   "metadata": {},
   "outputs": [
    {
     "name": "stdout",
     "output_type": "stream",
     "text": [
      "Model: \"model_1\"\n",
      "__________________________________________________________________________________________________\n",
      "Layer (type)                    Output Shape         Param #     Connected to                     \n",
      "==================================================================================================\n",
      "Store_input (InputLayer)        [(None, 1)]          0                                            \n",
      "__________________________________________________________________________________________________\n",
      "DayOfWeek_input (InputLayer)    [(None, 1)]          0                                            \n",
      "__________________________________________________________________________________________________\n",
      "Year_input (InputLayer)         [(None, 1)]          0                                            \n",
      "__________________________________________________________________________________________________\n",
      "Month_input (InputLayer)        [(None, 1)]          0                                            \n",
      "__________________________________________________________________________________________________\n",
      "Day_input (InputLayer)          [(None, 1)]          0                                            \n",
      "__________________________________________________________________________________________________\n",
      "StateHoliday_input (InputLayer) [(None, 1)]          0                                            \n",
      "__________________________________________________________________________________________________\n",
      "CompetitionMonthsOpen_input (In [(None, 1)]          0                                            \n",
      "__________________________________________________________________________________________________\n",
      "Promo2Weeks_input (InputLayer)  [(None, 1)]          0                                            \n",
      "__________________________________________________________________________________________________\n",
      "StoreType_input (InputLayer)    [(None, 1)]          0                                            \n",
      "__________________________________________________________________________________________________\n",
      "Assortment_input (InputLayer)   [(None, 1)]          0                                            \n",
      "__________________________________________________________________________________________________\n",
      "PromoInterval_input (InputLayer [(None, 1)]          0                                            \n",
      "__________________________________________________________________________________________________\n",
      "CompetitionOpenSinceYear_input  [(None, 1)]          0                                            \n",
      "__________________________________________________________________________________________________\n",
      "Promo2SinceYear_input (InputLay [(None, 1)]          0                                            \n",
      "__________________________________________________________________________________________________\n",
      "State_input (InputLayer)        [(None, 1)]          0                                            \n",
      "__________________________________________________________________________________________________\n",
      "Week_input (InputLayer)         [(None, 1)]          0                                            \n",
      "__________________________________________________________________________________________________\n",
      "Events_input (InputLayer)       [(None, 1)]          0                                            \n",
      "__________________________________________________________________________________________________\n",
      "Promo_fw_input (InputLayer)     [(None, 1)]          0                                            \n",
      "__________________________________________________________________________________________________\n",
      "Promo_bw_input (InputLayer)     [(None, 1)]          0                                            \n",
      "__________________________________________________________________________________________________\n",
      "StateHoliday_bool_fw_input (Inp [(None, 1)]          0                                            \n",
      "__________________________________________________________________________________________________\n",
      "StateHoliday_bool_bw_input (Inp [(None, 1)]          0                                            \n",
      "__________________________________________________________________________________________________\n",
      "SchoolHoliday_fw_input (InputLa [(None, 1)]          0                                            \n",
      "__________________________________________________________________________________________________\n",
      "SchoolHoliday_bw_input (InputLa [(None, 1)]          0                                            \n",
      "__________________________________________________________________________________________________\n",
      "Store_Embed (Embedding)         (None, 1, 50)        55750       Store_input[0][0]                \n",
      "__________________________________________________________________________________________________\n",
      "DayOfWeek_Embed (Embedding)     (None, 1, 25)        175         DayOfWeek_input[0][0]            \n",
      "__________________________________________________________________________________________________\n",
      "Year_Embed (Embedding)          (None, 1, 8)         24          Year_input[0][0]                 \n",
      "__________________________________________________________________________________________________\n",
      "Month_Embed (Embedding)         (None, 1, 4)         48          Month_input[0][0]                \n",
      "__________________________________________________________________________________________________\n",
      "Day_Embed (Embedding)           (None, 1, 8)         248         Day_input[0][0]                  \n",
      "__________________________________________________________________________________________________\n",
      "StateHoliday_Embed (Embedding)  (None, 1, 2)         8           StateHoliday_input[0][0]         \n",
      "__________________________________________________________________________________________________\n",
      "CompetitionMonthsOpen_Embed (Em (None, 1, 2)         50          CompetitionMonthsOpen_input[0][0]\n",
      "__________________________________________________________________________________________________\n",
      "Promo2Weeks_Embed (Embedding)   (None, 1, 2)         52          Promo2Weeks_input[0][0]          \n",
      "__________________________________________________________________________________________________\n",
      "StoreType_Embed (Embedding)     (None, 1, 3)         12          StoreType_input[0][0]            \n",
      "__________________________________________________________________________________________________\n",
      "Assortment_Embed (Embedding)    (None, 1, 3)         9           Assortment_input[0][0]           \n",
      "__________________________________________________________________________________________________\n",
      "PromoInterval_Embed (Embedding) (None, 1, 3)         12          PromoInterval_input[0][0]        \n",
      "__________________________________________________________________________________________________\n",
      "CompetitionOpenSinceYear_Embed  (None, 1, 4)         84          CompetitionOpenSinceYear_input[0]\n",
      "__________________________________________________________________________________________________\n",
      "Promo2SinceYear_Embed (Embeddin (None, 1, 4)         32          Promo2SinceYear_input[0][0]      \n",
      "__________________________________________________________________________________________________\n",
      "State_Embed (Embedding)         (None, 1, 6)         72          State_input[0][0]                \n",
      "__________________________________________________________________________________________________\n",
      "Week_Embed (Embedding)          (None, 1, 25)        1300        Week_input[0][0]                 \n",
      "__________________________________________________________________________________________________\n",
      "Events_Embed (Embedding)        (None, 1, 4)         88          Events_input[0][0]               \n",
      "__________________________________________________________________________________________________\n",
      "Promo_fw_Embed (Embedding)      (None, 1, 1)         6           Promo_fw_input[0][0]             \n",
      "__________________________________________________________________________________________________\n",
      "Promo_bw_Embed (Embedding)      (None, 1, 1)         6           Promo_bw_input[0][0]             \n",
      "__________________________________________________________________________________________________\n",
      "StateHoliday_bool_fw_Embed (Emb (None, 1, 1)         3           StateHoliday_bool_fw_input[0][0] \n",
      "__________________________________________________________________________________________________\n",
      "StateHoliday_bool_bw_Embed (Emb (None, 1, 1)         3           StateHoliday_bool_bw_input[0][0] \n",
      "__________________________________________________________________________________________________\n",
      "SchoolHoliday_fw_Embed (Embeddi (None, 1, 1)         8           SchoolHoliday_fw_input[0][0]     \n",
      "__________________________________________________________________________________________________\n",
      "SchoolHoliday_bw_Embed (Embeddi (None, 1, 1)         8           SchoolHoliday_bw_input[0][0]     \n",
      "__________________________________________________________________________________________________\n",
      "Store_flat (Flatten)            (None, 50)           0           Store_Embed[0][0]                \n",
      "__________________________________________________________________________________________________\n",
      "DayOfWeek_flat (Flatten)        (None, 25)           0           DayOfWeek_Embed[0][0]            \n",
      "__________________________________________________________________________________________________\n",
      "Year_flat (Flatten)             (None, 8)            0           Year_Embed[0][0]                 \n",
      "__________________________________________________________________________________________________\n",
      "Month_flat (Flatten)            (None, 4)            0           Month_Embed[0][0]                \n",
      "__________________________________________________________________________________________________\n",
      "Day_flat (Flatten)              (None, 8)            0           Day_Embed[0][0]                  \n",
      "__________________________________________________________________________________________________\n",
      "StateHoliday_flat (Flatten)     (None, 2)            0           StateHoliday_Embed[0][0]         \n",
      "__________________________________________________________________________________________________\n",
      "CompetitionMonthsOpen_flat (Fla (None, 2)            0           CompetitionMonthsOpen_Embed[0][0]\n",
      "__________________________________________________________________________________________________\n",
      "Promo2Weeks_flat (Flatten)      (None, 2)            0           Promo2Weeks_Embed[0][0]          \n",
      "__________________________________________________________________________________________________\n",
      "StoreType_flat (Flatten)        (None, 3)            0           StoreType_Embed[0][0]            \n",
      "__________________________________________________________________________________________________\n",
      "Assortment_flat (Flatten)       (None, 3)            0           Assortment_Embed[0][0]           \n",
      "__________________________________________________________________________________________________\n",
      "PromoInterval_flat (Flatten)    (None, 3)            0           PromoInterval_Embed[0][0]        \n",
      "__________________________________________________________________________________________________\n",
      "CompetitionOpenSinceYear_flat ( (None, 4)            0           CompetitionOpenSinceYear_Embed[0]\n",
      "__________________________________________________________________________________________________\n",
      "Promo2SinceYear_flat (Flatten)  (None, 4)            0           Promo2SinceYear_Embed[0][0]      \n",
      "__________________________________________________________________________________________________\n",
      "State_flat (Flatten)            (None, 6)            0           State_Embed[0][0]                \n",
      "__________________________________________________________________________________________________\n",
      "Week_flat (Flatten)             (None, 25)           0           Week_Embed[0][0]                 \n",
      "__________________________________________________________________________________________________\n",
      "Events_flat (Flatten)           (None, 4)            0           Events_Embed[0][0]               \n",
      "__________________________________________________________________________________________________\n",
      "Promo_fw_flat (Flatten)         (None, 1)            0           Promo_fw_Embed[0][0]             \n",
      "__________________________________________________________________________________________________\n",
      "Promo_bw_flat (Flatten)         (None, 1)            0           Promo_bw_Embed[0][0]             \n",
      "__________________________________________________________________________________________________\n",
      "StateHoliday_bool_fw_flat (Flat (None, 1)            0           StateHoliday_bool_fw_Embed[0][0] \n",
      "__________________________________________________________________________________________________\n",
      "StateHoliday_bool_bw_flat (Flat (None, 1)            0           StateHoliday_bool_bw_Embed[0][0] \n",
      "__________________________________________________________________________________________________\n",
      "SchoolHoliday_fw_flat (Flatten) (None, 1)            0           SchoolHoliday_fw_Embed[0][0]     \n",
      "__________________________________________________________________________________________________\n",
      "SchoolHoliday_bw_flat (Flatten) (None, 1)            0           SchoolHoliday_bw_Embed[0][0]     \n",
      "__________________________________________________________________________________________________\n",
      "CompetitionDistance_input (Inpu [(None, 1)]          0                                            \n",
      "__________________________________________________________________________________________________\n",
      "Max_TemperatureC_input (InputLa [(None, 1)]          0                                            \n",
      "__________________________________________________________________________________________________\n",
      "Precipitationmm_input (InputLay [(None, 1)]          0                                            \n",
      "__________________________________________________________________________________________________\n",
      "Max_Humidity_input (InputLayer) [(None, 1)]          0                                            \n",
      "__________________________________________________________________________________________________\n",
      "CloudCover_input (InputLayer)   [(None, 1)]          0                                            \n",
      "__________________________________________________________________________________________________\n",
      "trend_input (InputLayer)        [(None, 1)]          0                                            \n",
      "__________________________________________________________________________________________________\n",
      "AfterStateHoliday_bool_input (I [(None, 1)]          0                                            \n",
      "__________________________________________________________________________________________________\n",
      "Promo_input (InputLayer)        [(None, 1)]          0                                            \n",
      "__________________________________________________________________________________________________\n",
      "All_Concatenate (Concatenate)   (None, 167)          0           Store_flat[0][0]                 \n",
      "                                                                 DayOfWeek_flat[0][0]             \n",
      "                                                                 Year_flat[0][0]                  \n",
      "                                                                 Month_flat[0][0]                 \n",
      "                                                                 Day_flat[0][0]                   \n",
      "                                                                 StateHoliday_flat[0][0]          \n",
      "                                                                 CompetitionMonthsOpen_flat[0][0] \n",
      "                                                                 Promo2Weeks_flat[0][0]           \n",
      "                                                                 StoreType_flat[0][0]             \n",
      "                                                                 Assortment_flat[0][0]            \n",
      "                                                                 PromoInterval_flat[0][0]         \n",
      "                                                                 CompetitionOpenSinceYear_flat[0][\n",
      "                                                                 Promo2SinceYear_flat[0][0]       \n",
      "                                                                 State_flat[0][0]                 \n",
      "                                                                 Week_flat[0][0]                  \n",
      "                                                                 Events_flat[0][0]                \n",
      "                                                                 Promo_fw_flat[0][0]              \n",
      "                                                                 Promo_bw_flat[0][0]              \n",
      "                                                                 StateHoliday_bool_fw_flat[0][0]  \n",
      "                                                                 StateHoliday_bool_bw_flat[0][0]  \n",
      "                                                                 SchoolHoliday_fw_flat[0][0]      \n",
      "                                                                 SchoolHoliday_bw_flat[0][0]      \n",
      "                                                                 CompetitionDistance_input[0][0]  \n",
      "                                                                 Max_TemperatureC_input[0][0]     \n",
      "                                                                 Precipitationmm_input[0][0]      \n",
      "                                                                 Max_Humidity_input[0][0]         \n",
      "                                                                 CloudCover_input[0][0]           \n",
      "                                                                 trend_input[0][0]                \n",
      "                                                                 AfterStateHoliday_bool_input[0][0\n",
      "                                                                 Promo_input[0][0]                \n",
      "__________________________________________________________________________________________________\n",
      "dense_4 (Dense)                 (None, 1000)         168000      All_Concatenate[0][0]            \n",
      "__________________________________________________________________________________________________\n",
      "batch_normalization_1 (BatchNor (None, 1000)         4000        dense_4[0][0]                    \n",
      "__________________________________________________________________________________________________\n",
      "leaky_re_lu_1 (LeakyReLU)       (None, 1000)         0           batch_normalization_1[0][0]      \n",
      "__________________________________________________________________________________________________\n",
      "dropout_1 (Dropout)             (None, 1000)         0           leaky_re_lu_1[0][0]              \n",
      "__________________________________________________________________________________________________\n",
      "dense_5 (Dense)                 (None, 500)          500500      dropout_1[0][0]                  \n",
      "__________________________________________________________________________________________________\n",
      "activation_3 (Activation)       (None, 500)          0           dense_5[0][0]                    \n",
      "__________________________________________________________________________________________________\n",
      "dense_6 (Dense)                 (None, 500)          250500      activation_3[0][0]               \n",
      "__________________________________________________________________________________________________\n",
      "activation_4 (Activation)       (None, 500)          0           dense_6[0][0]                    \n",
      "__________________________________________________________________________________________________\n",
      "dense_7 (Dense)                 (None, 500)          250500      activation_4[0][0]               \n",
      "__________________________________________________________________________________________________\n",
      "activation_5 (Activation)       (None, 500)          0           dense_7[0][0]                    \n",
      "__________________________________________________________________________________________________\n",
      "Sales (Dense)                   (None, 1)            501         activation_5[0][0]               \n",
      "__________________________________________________________________________________________________\n",
      "Customers (Dense)               (None, 1)            501         activation_5[0][0]               \n",
      "==================================================================================================\n",
      "Total params: 1,232,500\n",
      "Trainable params: 1,230,500\n",
      "Non-trainable params: 2,000\n",
      "__________________________________________________________________________________________________\n"
     ]
    }
   ],
   "source": [
    "# Descomentar para ver\n",
    "model.summary()"
   ]
  },
  {
   "cell_type": "code",
   "execution_count": 74,
   "metadata": {},
   "outputs": [],
   "source": [
    "model.save_weights('initial_weights_final.hdf5')"
   ]
  },
  {
   "cell_type": "code",
   "execution_count": 75,
   "metadata": {},
   "outputs": [
    {
     "name": "stdout",
     "output_type": "stream",
     "text": [
      "Cantidad en val: 30188, porcentaje: 0.9642465458145908\n"
     ]
    }
   ],
   "source": [
    "df_train = df[df.Date < datetime.datetime(2015, 7, 1)]  \n",
    "df_val = df[df.Date >= datetime.datetime(2015, 7, 1)]\n",
    "print(f'Cantidad en val: {len(df_val)}, porcentaje: {len(df_train)/(len(df_train) + len(df_val))}')"
   ]
  },
  {
   "cell_type": "code",
   "execution_count": 24,
   "metadata": {},
   "outputs": [],
   "source": [
    "from matplotlib import pyplot as plt\n",
    "# plt.figure(figsize=(20,5))\n",
    "# plt.plot((df_train[df_train['Store']==1]['Sales'].values - df_train[df_train['Store']==1]['Sales'].mean())/df_train[df_train['Store']==1]['Sales'].std())\n",
    "# plt.show()\n",
    "# plt.figure(figsize=(20,5))\n",
    "# plt.plot(np.log(df_train[df_train['Store']==1]['Sales'].values)/np.max(np.log(df_train[df_train['Store']==1]['Sales'].values)))\n",
    "# plt.show()"
   ]
  },
  {
   "cell_type": "code",
   "execution_count": 76,
   "metadata": {},
   "outputs": [],
   "source": [
    "stores_mean = {}\n",
    "for store, g_df in df_train.groupby('Store'):\n",
    "    stores_mean[store] = g_df[g_df['Sales'] > 0]['Sales'].mean()"
   ]
  },
  {
   "cell_type": "code",
   "execution_count": 80,
   "metadata": {},
   "outputs": [],
   "source": [
    "df_train.loc[:, 'mean_by_store'] = df_train['Store'].apply(stores_mean.get)\n",
    "df_val.loc[:, 'mean_by_store'] = df_val['Store'].apply(stores_mean.get)"
   ]
  },
  {
   "cell_type": "code",
   "execution_count": 81,
   "metadata": {},
   "outputs": [],
   "source": [
    "df_train.loc[:, 'Sales_store'] = df_train['Sales'] - df_train['mean_by_store']\n",
    "df_val.loc[:, 'Sales_store'] = df_val['Sales'] - df_val['mean_by_store']"
   ]
  },
  {
   "cell_type": "code",
   "execution_count": null,
   "metadata": {},
   "outputs": [],
   "source": []
  },
  {
   "cell_type": "code",
   "execution_count": 32,
   "metadata": {},
   "outputs": [],
   "source": [
    "from tensorflow.keras import backend as K"
   ]
  },
  {
   "cell_type": "code",
   "execution_count": 82,
   "metadata": {},
   "outputs": [],
   "source": [
    "def rmspe(y_true, y_pred):\n",
    "    return K.sqrt(K.mean(K.square((y_true - y_pred)/y_true)))"
   ]
  },
  {
   "cell_type": "code",
   "execution_count": 83,
   "metadata": {},
   "outputs": [],
   "source": [
    "def get_metric(df, sales_):\n",
    "    return np.sqrt((((df['Sales'] - sales_)/df['Sales'])**2).mean())"
   ]
  },
  {
   "cell_type": "code",
   "execution_count": 84,
   "metadata": {},
   "outputs": [
    {
     "data": {
      "text/plain": [
       "0.30717460853388645"
      ]
     },
     "execution_count": 84,
     "metadata": {},
     "output_type": "execute_result"
    }
   ],
   "source": [
    "get_metric(df_val, df_val['mean_by_store'])"
   ]
  },
  {
   "cell_type": "code",
   "execution_count": 36,
   "metadata": {},
   "outputs": [],
   "source": [
    "all_vars = cat_vars + contin_vars\n",
    "X_train = np.hsplit(df_train[all_vars].values, len(all_vars))\n",
    "X_val = np.hsplit(df_val[all_vars].values, len(all_vars))\n",
    "X_test = np.hsplit(df_test[all_vars].values, len(all_vars))"
   ]
  },
  {
   "cell_type": "code",
   "execution_count": 37,
   "metadata": {},
   "outputs": [],
   "source": [
    "if add_customers:\n",
    "    y_out_columns = ['Sales', 'Customers']\n",
    "else:\n",
    "    y_out_columns = ['Sales_store']\n",
    "    \n",
    "if log_output:\n",
    "    # Escala logaritmica\n",
    "    max_log_y = np.max(np.log(df[y_out_columns])).values\n",
    "    y_train = np.log(df_train[y_out_columns].values)/max_log_y\n",
    "    y_val = np.log(df_val[y_out_columns].values)/max_log_y\n",
    "else:\n",
    "    # Normalización\n",
    "    y_mean = df_train[y_out_columns].mean().values\n",
    "    y_std = df_train[y_out_columns].std().values\n",
    "#     y_train = (df_train[y_out_columns].values - y_mean)/y_std\n",
    "#     y_val = (df_val[y_out_columns].values - y_mean)/y_std\n",
    "    y_max = df_train[y_out_columns].max().values\n",
    "    y_train = df_train[y_out_columns].values/y_max\n",
    "    y_val = df_val[y_out_columns].values/y_max\n",
    "y_train = np.hsplit(y_train, y_train.shape[1])\n",
    "y_val = np.hsplit(y_val, y_val.shape[1])"
   ]
  },
  {
   "cell_type": "code",
   "execution_count": 85,
   "metadata": {},
   "outputs": [],
   "source": [
    "lr = 0.004\n",
    "model.compile(optimizer=Adam(lr=lr), metrics=['mse', rmspe], loss='mse')"
   ]
  },
  {
   "cell_type": "code",
   "execution_count": 86,
   "metadata": {},
   "outputs": [],
   "source": [
    "if add_customers:\n",
    "    checkpoint = ModelCheckpoint('bestmodel_f.hdf5', monitor='val_loss', verbose=1, save_freq=\"epoch\", save_best_only=True)\n",
    "else:\n",
    "    checkpoint = ModelCheckpoint('bestmodel_f.h5', monitor='val_loss', verbose=1, save_freq=\"epoch\", save_best_only=True)"
   ]
  },
  {
   "cell_type": "code",
   "execution_count": 87,
   "metadata": {},
   "outputs": [],
   "source": [
    " lr_reduce = ReduceLROnPlateau(monitor='val_loss', \n",
    "                               factor=0.2,\n",
    "                               cooldown=0,\n",
    "                               verbose=1,\n",
    "                               patience=4,\n",
    "                               min_delta=0.01,\n",
    "                               min_lr=1e-8,\n",
    "                               mode='auto')\n",
    "ES=EarlyStopping(monitor='val_loss', min_delta=0, patience=4, verbose=1, restore_best_weights=True)\n"
   ]
  },
  {
   "cell_type": "code",
   "execution_count": 88,
   "metadata": {},
   "outputs": [
    {
     "name": "stdout",
     "output_type": "stream",
     "text": [
      "Train on 814150 samples, validate on 30188 samples\n",
      "Epoch 1/200\n",
      "\n",
      "Epoch 00001: val_loss improved from inf to 0.01858, saving model to bestmodel_f.hdf5\n",
      "814150/814150 - 340s - loss: 0.1035 - Sales_loss: 0.0262 - Customers_loss: 0.0307 - Sales_mean_squared_error: 0.0262 - Sales_rmspe: 0.0398 - Customers_mean_squared_error: 0.0307 - Customers_rmspe: 0.0476 - val_loss: 0.0186 - val_Sales_loss: 2.3801e-04 - val_Customers_loss: 2.5631e-04 - val_Sales_mean_squared_error: 2.3803e-04 - val_Sales_rmspe: 0.0189 - val_Customers_mean_squared_error: 2.5634e-04 - val_Customers_rmspe: 0.0220\n",
      "Epoch 2/200\n",
      "\n",
      "Epoch 00002: val_loss improved from 0.01858 to 0.00292, saving model to bestmodel_f.hdf5\n",
      "814150/814150 - 338s - loss: 0.0088 - Sales_loss: 2.8142e-04 - Customers_loss: 3.2418e-04 - Sales_mean_squared_error: 2.8142e-04 - Sales_rmspe: 0.0206 - Customers_mean_squared_error: 3.2418e-04 - Customers_rmspe: 0.0249 - val_loss: 0.0029 - val_Sales_loss: 2.8879e-04 - val_Customers_loss: 2.8974e-04 - val_Sales_mean_squared_error: 2.8879e-04 - val_Sales_rmspe: 0.0208 - val_Customers_mean_squared_error: 2.8974e-04 - val_Customers_rmspe: 0.0236\n",
      "Epoch 3/200\n",
      "\n",
      "Epoch 00003: val_loss improved from 0.00292 to 0.00083, saving model to bestmodel_f.hdf5\n",
      "814150/814150 - 338s - loss: 0.0014 - Sales_loss: 2.6025e-04 - Customers_loss: 2.9899e-04 - Sales_mean_squared_error: 2.6024e-04 - Sales_rmspe: 0.0199 - Customers_mean_squared_error: 2.9896e-04 - Customers_rmspe: 0.0240 - val_loss: 8.3143e-04 - val_Sales_loss: 2.6332e-04 - val_Customers_loss: 3.0982e-04 - val_Sales_mean_squared_error: 2.6332e-04 - val_Sales_rmspe: 0.0197 - val_Customers_mean_squared_error: 3.0985e-04 - val_Customers_rmspe: 0.0242\n",
      "Epoch 4/200\n",
      "\n",
      "Epoch 00004: val_loss did not improve from 0.00083\n",
      "814150/814150 - 339s - loss: 7.7318e-04 - Sales_loss: 2.5424e-04 - Customers_loss: 2.9581e-04 - Sales_mean_squared_error: 2.5427e-04 - Sales_rmspe: 0.0196 - Customers_mean_squared_error: 2.9584e-04 - Customers_rmspe: 0.0239 - val_loss: 0.0013 - val_Sales_loss: 4.4539e-04 - val_Customers_loss: 6.8325e-04 - val_Sales_mean_squared_error: 4.4539e-04 - val_Sales_rmspe: 0.0253 - val_Customers_mean_squared_error: 6.8323e-04 - val_Customers_rmspe: 0.0348\n",
      "Epoch 5/200\n",
      "\n",
      "Epoch 00005: val_loss did not improve from 0.00083\n",
      "814150/814150 - 337s - loss: 7.4106e-04 - Sales_loss: 2.4988e-04 - Customers_loss: 2.9024e-04 - Sales_mean_squared_error: 2.4989e-04 - Sales_rmspe: 0.0195 - Customers_mean_squared_error: 2.9026e-04 - Customers_rmspe: 0.0237 - val_loss: 0.0011 - val_Sales_loss: 2.3388e-04 - val_Customers_loss: 6.3418e-04 - val_Sales_mean_squared_error: 2.3388e-04 - val_Sales_rmspe: 0.0187 - val_Customers_mean_squared_error: 6.3420e-04 - val_Customers_rmspe: 0.0348\n",
      "Epoch 6/200\n",
      "\n",
      "Epoch 00006: val_loss did not improve from 0.00083\n",
      "\n",
      "Epoch 00006: ReduceLROnPlateau reducing learning rate to 0.000800000037997961.\n",
      "814150/814150 - 338s - loss: 6.7357e-04 - Sales_loss: 2.3700e-04 - Customers_loss: 2.7083e-04 - Sales_mean_squared_error: 2.3701e-04 - Sales_rmspe: 0.0190 - Customers_mean_squared_error: 2.7086e-04 - Customers_rmspe: 0.0229 - val_loss: 8.5378e-04 - val_Sales_loss: 4.2028e-04 - val_Customers_loss: 2.6003e-04 - val_Sales_mean_squared_error: 4.2030e-04 - val_Sales_rmspe: 0.0244 - val_Customers_mean_squared_error: 2.6005e-04 - val_Customers_rmspe: 0.0218\n",
      "Epoch 7/200\n",
      "\n",
      "Epoch 00007: val_loss improved from 0.00083 to 0.00045, saving model to bestmodel_f.hdf5\n",
      "814150/814150 - 339s - loss: 4.5807e-04 - Sales_loss: 1.7827e-04 - Customers_loss: 1.9940e-04 - Sales_mean_squared_error: 1.7829e-04 - Sales_rmspe: 0.0165 - Customers_mean_squared_error: 1.9940e-04 - Customers_rmspe: 0.0197 - val_loss: 4.5265e-04 - val_Sales_loss: 1.8223e-04 - val_Customers_loss: 1.9409e-04 - val_Sales_mean_squared_error: 1.8224e-04 - val_Sales_rmspe: 0.0166 - val_Customers_mean_squared_error: 1.9411e-04 - val_Customers_rmspe: 0.0193\n",
      "Epoch 8/200\n",
      "\n",
      "Epoch 00008: val_loss did not improve from 0.00045\n",
      "814150/814150 - 337s - loss: 4.3566e-04 - Sales_loss: 1.6989e-04 - Customers_loss: 1.8952e-04 - Sales_mean_squared_error: 1.6987e-04 - Sales_rmspe: 0.0161 - Customers_mean_squared_error: 1.8953e-04 - Customers_rmspe: 0.0192 - val_loss: 4.8141e-04 - val_Sales_loss: 1.8743e-04 - val_Customers_loss: 2.1605e-04 - val_Sales_mean_squared_error: 1.8744e-04 - val_Sales_rmspe: 0.0165 - val_Customers_mean_squared_error: 2.1606e-04 - val_Customers_rmspe: 0.0199\n",
      "Epoch 9/200\n",
      "\n",
      "Epoch 00009: val_loss did not improve from 0.00045\n",
      "814150/814150 - 338s - loss: 4.2451e-04 - Sales_loss: 1.6405e-04 - Customers_loss: 1.8517e-04 - Sales_mean_squared_error: 1.6400e-04 - Sales_rmspe: 0.0158 - Customers_mean_squared_error: 1.8511e-04 - Customers_rmspe: 0.0190 - val_loss: 6.3186e-04 - val_Sales_loss: 2.4173e-04 - val_Customers_loss: 3.1535e-04 - val_Sales_mean_squared_error: 2.4172e-04 - val_Sales_rmspe: 0.0186 - val_Customers_mean_squared_error: 3.1534e-04 - val_Customers_rmspe: 0.0235\n",
      "Epoch 10/200\n",
      "\n",
      "Epoch 00010: val_loss did not improve from 0.00045\n",
      "\n",
      "Epoch 00010: ReduceLROnPlateau reducing learning rate to 0.00016000000759959222.\n",
      "814150/814150 - 338s - loss: 4.1235e-04 - Sales_loss: 1.5952e-04 - Customers_loss: 1.7841e-04 - Sales_mean_squared_error: 1.5953e-04 - Sales_rmspe: 0.0156 - Customers_mean_squared_error: 1.7842e-04 - Customers_rmspe: 0.0186 - val_loss: 6.3399e-04 - val_Sales_loss: 2.9474e-04 - val_Customers_loss: 2.6534e-04 - val_Sales_mean_squared_error: 2.9473e-04 - val_Sales_rmspe: 0.0213 - val_Customers_mean_squared_error: 2.6533e-04 - val_Customers_rmspe: 0.0229\n",
      "Epoch 11/200\n",
      "\n",
      "Epoch 00011: val_loss improved from 0.00045 to 0.00035, saving model to bestmodel_f.hdf5\n",
      "814150/814150 - 352s - loss: 3.5443e-04 - Sales_loss: 1.3823e-04 - Customers_loss: 1.5255e-04 - Sales_mean_squared_error: 1.3824e-04 - Sales_rmspe: 0.0145 - Customers_mean_squared_error: 1.5256e-04 - Customers_rmspe: 0.0172 - val_loss: 3.5336e-04 - val_Sales_loss: 1.3788e-04 - val_Customers_loss: 1.5431e-04 - val_Sales_mean_squared_error: 1.3789e-04 - val_Sales_rmspe: 0.0143 - val_Customers_mean_squared_error: 1.5433e-04 - val_Customers_rmspe: 0.0170\n",
      "Epoch 12/200\n",
      "\n",
      "Epoch 00012: val_loss did not improve from 0.00035\n",
      "814150/814150 - 386s - loss: 3.4502e-04 - Sales_loss: 1.3540e-04 - Customers_loss: 1.4878e-04 - Sales_mean_squared_error: 1.3541e-04 - Sales_rmspe: 0.0144 - Customers_mean_squared_error: 1.4879e-04 - Customers_rmspe: 0.0170 - val_loss: 3.6061e-04 - val_Sales_loss: 1.4345e-04 - val_Customers_loss: 1.5633e-04 - val_Sales_mean_squared_error: 1.4343e-04 - val_Sales_rmspe: 0.0145 - val_Customers_mean_squared_error: 1.5631e-04 - val_Customers_rmspe: 0.0170\n",
      "Epoch 13/200\n",
      "\n",
      "Epoch 00013: val_loss did not improve from 0.00035\n",
      "814150/814150 - 383s - loss: 3.3981e-04 - Sales_loss: 1.3292e-04 - Customers_loss: 1.4610e-04 - Sales_mean_squared_error: 1.3290e-04 - Sales_rmspe: 0.0142 - Customers_mean_squared_error: 1.4607e-04 - Customers_rmspe: 0.0169 - val_loss: 3.6499e-04 - val_Sales_loss: 1.3392e-04 - val_Customers_loss: 1.6981e-04 - val_Sales_mean_squared_error: 1.3394e-04 - val_Sales_rmspe: 0.0141 - val_Customers_mean_squared_error: 1.6981e-04 - val_Customers_rmspe: 0.0182\n",
      "Epoch 14/200\n",
      "\n",
      "Epoch 00014: val_loss did not improve from 0.00035\n",
      "\n",
      "Epoch 00014: ReduceLROnPlateau reducing learning rate to 3.200000210199505e-05.\n",
      "814150/814150 - 381s - loss: 3.3493e-04 - Sales_loss: 1.3073e-04 - Customers_loss: 1.4358e-04 - Sales_mean_squared_error: 1.3065e-04 - Sales_rmspe: 0.0141 - Customers_mean_squared_error: 1.4350e-04 - Customers_rmspe: 0.0167 - val_loss: 3.6133e-04 - val_Sales_loss: 1.4682e-04 - val_Customers_loss: 1.5395e-04 - val_Sales_mean_squared_error: 1.4683e-04 - val_Sales_rmspe: 0.0146 - val_Customers_mean_squared_error: 1.5394e-04 - val_Customers_rmspe: 0.0169\n",
      "Epoch 15/200\n",
      "\n",
      "Epoch 00015: val_loss improved from 0.00035 to 0.00032, saving model to bestmodel_f.hdf5\n",
      "814150/814150 - 380s - loss: 3.1900e-04 - Sales_loss: 1.2416e-04 - Customers_loss: 1.3463e-04 - Sales_mean_squared_error: 1.2416e-04 - Sales_rmspe: 0.0138 - Customers_mean_squared_error: 1.3463e-04 - Customers_rmspe: 0.0162 - val_loss: 3.2002e-04 - val_Sales_loss: 1.2391e-04 - val_Customers_loss: 1.3616e-04 - val_Sales_mean_squared_error: 1.2390e-04 - val_Sales_rmspe: 0.0136 - val_Customers_mean_squared_error: 1.3615e-04 - val_Customers_rmspe: 0.0160\n"
     ]
    },
    {
     "name": "stdout",
     "output_type": "stream",
     "text": [
      "Epoch 16/200\n",
      "\n",
      "Epoch 00016: val_loss improved from 0.00032 to 0.00032, saving model to bestmodel_f.hdf5\n",
      "814150/814150 - 381s - loss: 3.1647e-04 - Sales_loss: 1.2310e-04 - Customers_loss: 1.3361e-04 - Sales_mean_squared_error: 1.2310e-04 - Sales_rmspe: 0.0137 - Customers_mean_squared_error: 1.3362e-04 - Customers_rmspe: 0.0161 - val_loss: 3.1759e-04 - val_Sales_loss: 1.2311e-04 - val_Customers_loss: 1.3496e-04 - val_Sales_mean_squared_error: 1.2313e-04 - val_Sales_rmspe: 0.0136 - val_Customers_mean_squared_error: 1.3498e-04 - val_Customers_rmspe: 0.0160\n",
      "Epoch 17/200\n",
      "\n",
      "Epoch 00017: val_loss improved from 0.00032 to 0.00031, saving model to bestmodel_f.hdf5\n",
      "814150/814150 - 380s - loss: 3.1480e-04 - Sales_loss: 1.2251e-04 - Customers_loss: 1.3281e-04 - Sales_mean_squared_error: 1.2252e-04 - Sales_rmspe: 0.0137 - Customers_mean_squared_error: 1.3281e-04 - Customers_rmspe: 0.0161 - val_loss: 3.1259e-04 - val_Sales_loss: 1.2172e-04 - val_Customers_loss: 1.3150e-04 - val_Sales_mean_squared_error: 1.2169e-04 - val_Sales_rmspe: 0.0135 - val_Customers_mean_squared_error: 1.3150e-04 - val_Customers_rmspe: 0.0158\n",
      "Epoch 18/200\n",
      "\n",
      "Epoch 00018: val_loss did not improve from 0.00031\n",
      "\n",
      "Epoch 00018: ReduceLROnPlateau reducing learning rate to 6.400000711437315e-06.\n",
      "814150/814150 - 380s - loss: 3.1344e-04 - Sales_loss: 1.2189e-04 - Customers_loss: 1.3219e-04 - Sales_mean_squared_error: 1.2188e-04 - Sales_rmspe: 0.0136 - Customers_mean_squared_error: 1.3216e-04 - Customers_rmspe: 0.0160 - val_loss: 3.1507e-04 - val_Sales_loss: 1.2189e-04 - val_Customers_loss: 1.3387e-04 - val_Sales_mean_squared_error: 1.2192e-04 - val_Sales_rmspe: 0.0135 - val_Customers_mean_squared_error: 1.3389e-04 - val_Customers_rmspe: 0.0159\n",
      "Epoch 19/200\n",
      "\n",
      "Epoch 00019: val_loss improved from 0.00031 to 0.00031, saving model to bestmodel_f.hdf5\n",
      "814150/814150 - 380s - loss: 3.0907e-04 - Sales_loss: 1.1992e-04 - Customers_loss: 1.2987e-04 - Sales_mean_squared_error: 1.1994e-04 - Sales_rmspe: 0.0135 - Customers_mean_squared_error: 1.2988e-04 - Customers_rmspe: 0.0159 - val_loss: 3.0955e-04 - val_Sales_loss: 1.2021e-04 - val_Customers_loss: 1.3011e-04 - val_Sales_mean_squared_error: 1.2020e-04 - val_Sales_rmspe: 0.0134 - val_Customers_mean_squared_error: 1.3010e-04 - val_Customers_rmspe: 0.0157\n",
      "Epoch 20/200\n",
      "\n",
      "Epoch 00020: val_loss did not improve from 0.00031\n",
      "814150/814150 - 380s - loss: 3.0925e-04 - Sales_loss: 1.2002e-04 - Customers_loss: 1.2992e-04 - Sales_mean_squared_error: 1.2003e-04 - Sales_rmspe: 0.0135 - Customers_mean_squared_error: 1.2993e-04 - Customers_rmspe: 0.0159 - val_loss: 3.1018e-04 - val_Sales_loss: 1.2056e-04 - val_Customers_loss: 1.3031e-04 - val_Sales_mean_squared_error: 1.2057e-04 - val_Sales_rmspe: 0.0134 - val_Customers_mean_squared_error: 1.3033e-04 - val_Customers_rmspe: 0.0157\n",
      "Epoch 21/200\n",
      "\n",
      "Epoch 00021: val_loss did not improve from 0.00031\n",
      "814150/814150 - 380s - loss: 3.0831e-04 - Sales_loss: 1.1967e-04 - Customers_loss: 1.2934e-04 - Sales_mean_squared_error: 1.1968e-04 - Sales_rmspe: 0.0135 - Customers_mean_squared_error: 1.2935e-04 - Customers_rmspe: 0.0159 - val_loss: 3.0972e-04 - val_Sales_loss: 1.2022e-04 - val_Customers_loss: 1.3023e-04 - val_Sales_mean_squared_error: 1.2021e-04 - val_Sales_rmspe: 0.0134 - val_Customers_mean_squared_error: 1.3020e-04 - val_Customers_rmspe: 0.0157\n",
      "Epoch 22/200\n",
      "\n",
      "Epoch 00022: val_loss did not improve from 0.00031\n",
      "\n",
      "Epoch 00022: ReduceLROnPlateau reducing learning rate to 1.2800001059076749e-06.\n",
      "814150/814150 - 380s - loss: 3.0789e-04 - Sales_loss: 1.1952e-04 - Customers_loss: 1.2911e-04 - Sales_mean_squared_error: 1.1951e-04 - Sales_rmspe: 0.0135 - Customers_mean_squared_error: 1.2908e-04 - Customers_rmspe: 0.0159 - val_loss: 3.0959e-04 - val_Sales_loss: 1.2007e-04 - val_Customers_loss: 1.3021e-04 - val_Sales_mean_squared_error: 1.2008e-04 - val_Sales_rmspe: 0.0134 - val_Customers_mean_squared_error: 1.3023e-04 - val_Customers_rmspe: 0.0157\n",
      "Epoch 23/200\n",
      "\n",
      "Epoch 00023: val_loss did not improve from 0.00031\n",
      "Restoring model weights from the end of the best epoch.\n",
      "814150/814150 - 380s - loss: 3.0690e-04 - Sales_loss: 1.1913e-04 - Customers_loss: 1.2850e-04 - Sales_mean_squared_error: 1.1913e-04 - Sales_rmspe: 0.0135 - Customers_mean_squared_error: 1.2850e-04 - Customers_rmspe: 0.0158 - val_loss: 3.1056e-04 - val_Sales_loss: 1.2049e-04 - val_Customers_loss: 1.3075e-04 - val_Sales_mean_squared_error: 1.2052e-04 - val_Sales_rmspe: 0.0134 - val_Customers_mean_squared_error: 1.3078e-04 - val_Customers_rmspe: 0.0157\n",
      "Epoch 00023: early stopping\n",
      "Wall time: 2h 18min 25s\n"
     ]
    }
   ],
   "source": [
    "%%time\n",
    "epochs = 200\n",
    "batch_size = 256\n",
    "history = model.fit(X_train, y_train, validation_data=(X_val, y_val),  epochs=epochs, batch_size=batch_size, callbacks=[checkpoint,lr_reduce,ES], verbose=2)"
   ]
  },
  {
   "cell_type": "code",
   "execution_count": 89,
   "metadata": {},
   "outputs": [
    {
     "data": {
      "image/png": "[encoded data removed]",
      "text/plain": [
       "<Figure size 640x480 with 1 Axes>"
      ]
     },
     "metadata": {},
     "output_type": "display_data"
    },
    {
     "data": {
      "text/plain": [
       "[<matplotlib.lines.Line2D at 0x1a0fb1720c8>]"
      ]
     },
     "execution_count": 89,
     "metadata": {},
     "output_type": "execute_result"
    },
    {
     "data": {
      "image/png": "[encoded data removed]",
      "text/plain": [
       "<Figure size 640x480 with 1 Axes>"
      ]
     },
     "metadata": {},
     "output_type": "display_data"
    }
   ],
   "source": [
    "plt.plot(history.history['val_loss'])\n",
    "# plt.plot(history.history['val_Customers_mse'])\n",
    "# plt.plot(history.history['val_Sales_mse'])\n",
    "plt.show()\n",
    "plt.plot(history.history['loss'])\n",
    "# plt.plot(history.history['Customers_mse'])\n",
    "# plt.plot(history.history['Sales_mse'])"
   ]
  },
  {
   "cell_type": "code",
   "execution_count": 90,
   "metadata": {},
   "outputs": [],
   "source": [
    "model.save('my_model_final.h5')"
   ]
  },
  {
   "cell_type": "code",
   "execution_count": null,
   "metadata": {},
   "outputs": [],
   "source": []
  },
  {
   "cell_type": "markdown",
   "metadata": {},
   "source": [
    "# Métrica"
   ]
  },
  {
   "cell_type": "markdown",
   "metadata": {},
   "source": [
    "$$\n",
    "\\textrm{RMSE} = \\sqrt{\\frac{1}{n} \\sum_{i=1}^{n} \\left(\\frac{\\hat{y}_i - y_i}{y_i}\\right)^2}\n",
    "$$"
   ]
  },
  {
   "cell_type": "code",
   "execution_count": 91,
   "metadata": {},
   "outputs": [
    {
     "name": "stdout",
     "output_type": "stream",
     "text": [
      "30188/30188 [==============================] - 9s 306us/sample - loss: 3.0955e-04 - Sales_loss: 1.2031e-04 - Customers_loss: 1.3011e-04 - Sales_mean_squared_error: 1.2020e-04 - Sales_rmspe: 0.0130 - Customers_mean_squared_error: 1.3010e-04 - Customers_rmspe: 0.0151\n"
     ]
    },
    {
     "data": {
      "text/plain": [
       "[0.0003095517851242864,\n",
       " 0.00012031409,\n",
       " 0.00013010863,\n",
       " 0.000120199686,\n",
       " 0.012993185,\n",
       " 0.00013010259,\n",
       " 0.015075239]"
      ]
     },
     "execution_count": 91,
     "metadata": {},
     "output_type": "execute_result"
    }
   ],
   "source": [
    "model.load_weights('my_model_final.h5')\n",
    "model.evaluate(X_val, y_val)"
   ]
  },
  {
   "cell_type": "code",
   "execution_count": 92,
   "metadata": {},
   "outputs": [
    {
     "name": "stdout",
     "output_type": "stream",
     "text": [
      "30188/30188 [==============================] - 9s 306us/sample - loss: 3.0955e-04 - Sales_loss: 1.2031e-04 - Customers_loss: 1.3011e-04 - Sales_mean_squared_error: 1.2020e-04 - Sales_rmspe: 0.0130 - Customers_mean_squared_error: 1.3010e-04 - Customers_rmspe: 0.0151\n"
     ]
    },
    {
     "data": {
      "text/plain": [
       "[0.0003095517851242864,\n",
       " 0.00012031409,\n",
       " 0.00013010863,\n",
       " 0.000120199686,\n",
       " 0.012993185,\n",
       " 0.00013010259,\n",
       " 0.015075239]"
      ]
     },
     "execution_count": 92,
     "metadata": {},
     "output_type": "execute_result"
    }
   ],
   "source": [
    "model.load_weights('bestmodel_f.hdf5')\n",
    "model.evaluate(X_val, y_val)"
   ]
  },
  {
   "cell_type": "code",
   "execution_count": 151,
   "metadata": {},
   "outputs": [],
   "source": [
    "# model.load_weights('bestmodel.hdf5')\n",
    "# model.evaluate(X_val, y_val)\n",
    "# 30188/30188 [==============================] - 5s 172us/step\n",
    "# [0.12197033089921382,\n",
    "#  0.07211007360268763,\n",
    "#  0.037183713050426136,\n",
    "#  0.07211007360268763,\n",
    "#  0.037183713050426136]\n",
    "\n",
    "# [0.12932546436786652,\n",
    "#  0.07751645147800446,\n",
    "#  0.039259567856788635,\n",
    "#  0.07751645147800446,\n",
    "#  0.039259567856788635]"
   ]
  },
  {
   "cell_type": "code",
   "execution_count": 93,
   "metadata": {},
   "outputs": [
    {
     "name": "stdout",
     "output_type": "stream",
     "text": [
      "30188/30188 [==============================] - 7s 233us/sample\n",
      "41088/41088 [==============================] - 9s 228us/sample\n"
     ]
    }
   ],
   "source": [
    "if log_output:\n",
    "    if add_customers:\n",
    "        y_pred = np.exp(model.predict(X_val, verbose=1)[0][:, 0]*max_log_y[0])\n",
    "        y_pred_test = np.exp(model.predict(X_test, verbose=1)[0][:, 0]*max_log_y[0])\n",
    "    else:\n",
    "        y_pred = np.exp(model.predict(X_val, verbose=1)*max_log_y)[:,0]\n",
    "        y_pred_test = np.exp(model.predict(X_test, verbose=1)*max_log_y)[:,0]\n",
    "else:\n",
    "    if add_customers:\n",
    "        y_pred = (model.predict(X_val, verbose=1)[0]*y_std[0] + y_mean[0])[:,0]\n",
    "        y_pred_test = (model.predict(X_test, verbose=1)[0]*y_std[0] + y_mean[0])[:,0]\n",
    "    else:\n",
    "#         y_pred = model.predict(X_val, verbose=1)[:,0]*y_std + y_mean\n",
    "#         y_pred_test = model.predict(X_test, verbose=1)[:,0]*y_std + y_mean\n",
    "        y_pred = model.predict(X_val, verbose=1)[:,0]*y_max\n",
    "        y_pred_test = model.predict(X_test, verbose=1)[:,0]*y_max\n",
    "y_pred_test[df_test['Open'] == 0] = 0"
   ]
  },
  {
   "cell_type": "code",
   "execution_count": 96,
   "metadata": {},
   "outputs": [],
   "source": [
    "# Resultado objetivo de la metricca: <0.129"
   ]
  },
  {
   "cell_type": "code",
   "execution_count": 94,
   "metadata": {},
   "outputs": [
    {
     "data": {
      "text/plain": [
       "0.12122549449127981"
      ]
     },
     "execution_count": 94,
     "metadata": {},
     "output_type": "execute_result"
    }
   ],
   "source": [
    "np.sqrt((((df_val['Sales'].values - y_pred)/df_val['Sales'].values)**2).sum()/len(y_pred))"
   ]
  },
  {
   "cell_type": "code",
   "execution_count": 95,
   "metadata": {},
   "outputs": [
    {
     "data": {
      "text/plain": [
       "array([4249.315 , 6575.6025, 9139.773 , 6237.2314, 7104.676 , 5553.9727,\n",
       "       7872.984 , 7494.47  , 4487.444 , 5558.3755], dtype=float32)"
      ]
     },
     "execution_count": 95,
     "metadata": {},
     "output_type": "execute_result"
    }
   ],
   "source": [
    "y_pred_test[:10]"
   ]
  },
  {
   "cell_type": "markdown",
   "metadata": {},
   "source": [
    "# Baseline"
   ]
  },
  {
   "cell_type": "code",
   "execution_count": 97,
   "metadata": {},
   "outputs": [],
   "source": [
    "import pandas as pd\n",
    "sample_csv = pd.read_csv('dataset/rossmann/sample_submission.csv')"
   ]
  },
  {
   "cell_type": "code",
   "execution_count": 98,
   "metadata": {},
   "outputs": [],
   "source": [
    "stores_mean = {}\n",
    "for store, g_df in df.groupby('Store'):\n",
    "    stores_mean[store] = g_df[g_df['Sales'] > 0]['Sales'].mean()"
   ]
  },
  {
   "cell_type": "code",
   "execution_count": 99,
   "metadata": {},
   "outputs": [],
   "source": [
    "df_test['Sales'] = df_test['Store'].apply(stores_mean.get)\n",
    "df_test.loc[df_test['Open'] == 0, 'Sales'] = 0"
   ]
  },
  {
   "cell_type": "code",
   "execution_count": 100,
   "metadata": {},
   "outputs": [
    {
     "data": {
      "text/html": [
       "<div>\n",
       "<style scoped>\n",
       "    .dataframe tbody tr th:only-of-type {\n",
       "        vertical-align: middle;\n",
       "    }\n",
       "\n",
       "    .dataframe tbody tr th {\n",
       "        vertical-align: top;\n",
       "    }\n",
       "\n",
       "    .dataframe thead th {\n",
       "        text-align: right;\n",
       "    }\n",
       "</style>\n",
       "<table border=\"1\" class=\"dataframe\">\n",
       "  <thead>\n",
       "    <tr style=\"text-align: right;\">\n",
       "      <th></th>\n",
       "      <th>Store</th>\n",
       "      <th>Sales</th>\n",
       "    </tr>\n",
       "  </thead>\n",
       "  <tbody>\n",
       "    <tr>\n",
       "      <th>0</th>\n",
       "      <td>0</td>\n",
       "      <td>4759.096031</td>\n",
       "    </tr>\n",
       "    <tr>\n",
       "      <th>1</th>\n",
       "      <td>2</td>\n",
       "      <td>6942.568678</td>\n",
       "    </tr>\n",
       "    <tr>\n",
       "      <th>2</th>\n",
       "      <td>6</td>\n",
       "      <td>8817.050891</td>\n",
       "    </tr>\n",
       "    <tr>\n",
       "      <th>3</th>\n",
       "      <td>7</td>\n",
       "      <td>5539.358418</td>\n",
       "    </tr>\n",
       "    <tr>\n",
       "      <th>4</th>\n",
       "      <td>8</td>\n",
       "      <td>6562.337612</td>\n",
       "    </tr>\n",
       "    <tr>\n",
       "      <th>5</th>\n",
       "      <td>9</td>\n",
       "      <td>5568.420918</td>\n",
       "    </tr>\n",
       "    <tr>\n",
       "      <th>6</th>\n",
       "      <td>10</td>\n",
       "      <td>8030.977041</td>\n",
       "    </tr>\n",
       "    <tr>\n",
       "      <th>7</th>\n",
       "      <td>11</td>\n",
       "      <td>7589.598214</td>\n",
       "    </tr>\n",
       "    <tr>\n",
       "      <th>8</th>\n",
       "      <td>12</td>\n",
       "      <td>5034.747182</td>\n",
       "    </tr>\n",
       "    <tr>\n",
       "      <th>9</th>\n",
       "      <td>13</td>\n",
       "      <td>5508.567394</td>\n",
       "    </tr>\n",
       "  </tbody>\n",
       "</table>\n",
       "</div>"
      ],
      "text/plain": [
       "   Store        Sales\n",
       "0      0  4759.096031\n",
       "1      2  6942.568678\n",
       "2      6  8817.050891\n",
       "3      7  5539.358418\n",
       "4      8  6562.337612\n",
       "5      9  5568.420918\n",
       "6     10  8030.977041\n",
       "7     11  7589.598214\n",
       "8     12  5034.747182\n",
       "9     13  5508.567394"
      ]
     },
     "execution_count": 100,
     "metadata": {},
     "output_type": "execute_result"
    }
   ],
   "source": [
    "df_test[['Store', 'Sales']].head(10)"
   ]
  },
  {
   "cell_type": "code",
   "execution_count": 101,
   "metadata": {},
   "outputs": [
    {
     "data": {
      "text/html": [
       "<div>\n",
       "<style scoped>\n",
       "    .dataframe tbody tr th:only-of-type {\n",
       "        vertical-align: middle;\n",
       "    }\n",
       "\n",
       "    .dataframe tbody tr th {\n",
       "        vertical-align: top;\n",
       "    }\n",
       "\n",
       "    .dataframe thead th {\n",
       "        text-align: right;\n",
       "    }\n",
       "</style>\n",
       "<table border=\"1\" class=\"dataframe\">\n",
       "  <thead>\n",
       "    <tr style=\"text-align: right;\">\n",
       "      <th></th>\n",
       "      <th>Store</th>\n",
       "      <th>Sales</th>\n",
       "    </tr>\n",
       "  </thead>\n",
       "  <tbody>\n",
       "    <tr>\n",
       "      <th>543</th>\n",
       "      <td>702</td>\n",
       "      <td>0.0</td>\n",
       "    </tr>\n",
       "    <tr>\n",
       "      <th>676</th>\n",
       "      <td>878</td>\n",
       "      <td>0.0</td>\n",
       "    </tr>\n",
       "    <tr>\n",
       "      <th>840</th>\n",
       "      <td>1096</td>\n",
       "      <td>0.0</td>\n",
       "    </tr>\n",
       "    <tr>\n",
       "      <th>1399</th>\n",
       "      <td>702</td>\n",
       "      <td>0.0</td>\n",
       "    </tr>\n",
       "    <tr>\n",
       "      <th>1532</th>\n",
       "      <td>878</td>\n",
       "      <td>0.0</td>\n",
       "    </tr>\n",
       "  </tbody>\n",
       "</table>\n",
       "</div>"
      ],
      "text/plain": [
       "      Store  Sales\n",
       "543     702    0.0\n",
       "676     878    0.0\n",
       "840    1096    0.0\n",
       "1399    702    0.0\n",
       "1532    878    0.0"
      ]
     },
     "execution_count": 101,
     "metadata": {},
     "output_type": "execute_result"
    }
   ],
   "source": [
    "df_test[df_test['Open'] == 0][['Store', 'Sales']].head()"
   ]
  },
  {
   "cell_type": "code",
   "execution_count": 102,
   "metadata": {},
   "outputs": [],
   "source": [
    "sample_csv['Sales'] = df_test['Sales']"
   ]
  },
  {
   "cell_type": "code",
   "execution_count": 103,
   "metadata": {},
   "outputs": [],
   "source": [
    "sample_csv.to_csv(f'submision_baselinedout.csv', index=False)"
   ]
  },
  {
   "cell_type": "code",
   "execution_count": 104,
   "metadata": {},
   "outputs": [
    {
     "data": {
      "text/html": [
       "<div>\n",
       "<style scoped>\n",
       "    .dataframe tbody tr th:only-of-type {\n",
       "        vertical-align: middle;\n",
       "    }\n",
       "\n",
       "    .dataframe tbody tr th {\n",
       "        vertical-align: top;\n",
       "    }\n",
       "\n",
       "    .dataframe thead th {\n",
       "        text-align: right;\n",
       "    }\n",
       "</style>\n",
       "<table border=\"1\" class=\"dataframe\">\n",
       "  <thead>\n",
       "    <tr style=\"text-align: right;\">\n",
       "      <th></th>\n",
       "      <th>Id</th>\n",
       "      <th>Sales</th>\n",
       "    </tr>\n",
       "  </thead>\n",
       "  <tbody>\n",
       "    <tr>\n",
       "      <th>0</th>\n",
       "      <td>1</td>\n",
       "      <td>4759.096031</td>\n",
       "    </tr>\n",
       "    <tr>\n",
       "      <th>1</th>\n",
       "      <td>2</td>\n",
       "      <td>6942.568678</td>\n",
       "    </tr>\n",
       "    <tr>\n",
       "      <th>2</th>\n",
       "      <td>3</td>\n",
       "      <td>8817.050891</td>\n",
       "    </tr>\n",
       "    <tr>\n",
       "      <th>3</th>\n",
       "      <td>4</td>\n",
       "      <td>5539.358418</td>\n",
       "    </tr>\n",
       "    <tr>\n",
       "      <th>4</th>\n",
       "      <td>5</td>\n",
       "      <td>6562.337612</td>\n",
       "    </tr>\n",
       "  </tbody>\n",
       "</table>\n",
       "</div>"
      ],
      "text/plain": [
       "   Id        Sales\n",
       "0   1  4759.096031\n",
       "1   2  6942.568678\n",
       "2   3  8817.050891\n",
       "3   4  5539.358418\n",
       "4   5  6562.337612"
      ]
     },
     "execution_count": 104,
     "metadata": {},
     "output_type": "execute_result"
    }
   ],
   "source": [
    "sample_csv.head()"
   ]
  },
  {
   "cell_type": "code",
   "execution_count": null,
   "metadata": {},
   "outputs": [],
   "source": []
  },
  {
   "cell_type": "markdown",
   "metadata": {},
   "source": [
    "# Sumbit a la competición"
   ]
  },
  {
   "cell_type": "code",
   "execution_count": 105,
   "metadata": {},
   "outputs": [],
   "source": [
    "\n",
    "sample_csv = pd.read_csv('dataset/rossmann/sample_submission.csv')\n",
    "sample_csv['Sales'] = y_pred_test\n",
    "sample_csv.head()\n",
    "\n",
    "sample_csv.to_csv(f'submisionp_{add_customers}-{log_output}-{output_activation}-{l2_lambda}-{first_hidden_units}-{epochs}.csv', index=False)\n"
   ]
  },
  {
   "cell_type": "markdown",
   "metadata": {},
   "source": [
    "# Analisis de embedings"
   ]
  },
  {
   "cell_type": "code",
   "execution_count": 134,
   "metadata": {},
   "outputs": [],
   "source": [
    "def plot_embed(layer_name, cat_names):\n",
    "    Y = model.get_layer(layer_name).get_weights()[0]\n",
    "    print(Y.shape)\n",
    "    plt.figure(figsize=(8,8))\n",
    "    plt.scatter(-Y[:, 0], -Y[:, 1])\n",
    "    for i, txt in enumerate(cat_names):\n",
    "        plt.annotate(txt, (-Y[i, 0],-Y[i, 1]), xytext = (-5, 8), textcoords = 'offset points')"
   ]
  },
  {
   "cell_type": "code",
   "execution_count": 135,
   "metadata": {},
   "outputs": [
    {
     "name": "stdout",
     "output_type": "stream",
     "text": [
      "(7, 2)\n"
     ]
    },
    {
     "data": {
      "image/png": "[encoded data removed]",
      "text/plain": [
       "<Figure size 800x800 with 1 Axes>"
      ]
     },
     "metadata": {},
     "output_type": "display_data"
    }
   ],
   "source": [
    "model.load_weights('my_model1p.hdf5')\n",
    "plot_embed('DayOfWeek_Embed', ['Mon', 'Tue', 'Wed', 'Thu', 'Fri', 'Sat','Sun'])"
   ]
  },
  {
   "cell_type": "code",
   "execution_count": 86,
   "metadata": {},
   "outputs": [
    {
     "name": "stdout",
     "output_type": "stream",
     "text": [
      "(12, 2)\n"
     ]
    },
    {
     "data": {
      "image/png": "[encoded data removed]",
      "text/plain": [
       "<Figure size 800x800 with 1 Axes>"
      ]
     },
     "metadata": {},
     "output_type": "display_data"
    }
   ],
   "source": [
    "plot_embed('Month_Embed', list(range(12)))"
   ]
  },
  {
   "cell_type": "code",
   "execution_count": 87,
   "metadata": {},
   "outputs": [],
   "source": [
    "from sklearn.manifold import TSNE\n",
    "from sklearn.decomposition import PCA"
   ]
  },
  {
   "cell_type": "code",
   "execution_count": 100,
   "metadata": {},
   "outputs": [],
   "source": [
    "#day_of_week_embedding.shape"
   ]
  },
  {
   "cell_type": "code",
   "execution_count": 136,
   "metadata": {},
   "outputs": [
    {
     "ename": "NameError",
     "evalue": "name 'TSNE' is not defined",
     "output_type": "error",
     "traceback": [
      "\u001b[1;31m---------------------------------------------------------------------------\u001b[0m",
      "\u001b[1;31mNameError\u001b[0m                                 Traceback (most recent call last)",
      "\u001b[1;32m~\\AppData\\Local\\Temp\\ipykernel_15856\\3426546397.py\u001b[0m in \u001b[0;36m<module>\u001b[1;34m\u001b[0m\n\u001b[1;32m----> 1\u001b[1;33m \u001b[0mtsne\u001b[0m \u001b[1;33m=\u001b[0m \u001b[0mTSNE\u001b[0m\u001b[1;33m(\u001b[0m\u001b[0mn_components\u001b[0m\u001b[1;33m=\u001b[0m\u001b[1;36m2\u001b[0m\u001b[1;33m,\u001b[0m \u001b[0mrandom_state\u001b[0m\u001b[1;33m=\u001b[0m\u001b[1;36m1\u001b[0m\u001b[1;33m,\u001b[0m \u001b[0mlearning_rate\u001b[0m\u001b[1;33m=\u001b[0m\u001b[1;36m10\u001b[0m\u001b[1;33m,\u001b[0m \u001b[0mn_iter\u001b[0m\u001b[1;33m=\u001b[0m\u001b[1;36m10000\u001b[0m\u001b[1;33m)\u001b[0m\u001b[1;33m\u001b[0m\u001b[1;33m\u001b[0m\u001b[0m\n\u001b[0m\u001b[0;32m      2\u001b[0m \u001b[0mY\u001b[0m \u001b[1;33m=\u001b[0m \u001b[0mtsne\u001b[0m\u001b[1;33m.\u001b[0m\u001b[0mfit_transform\u001b[0m\u001b[1;33m(\u001b[0m\u001b[0mday_of_week_embedding\u001b[0m\u001b[1;33m)\u001b[0m\u001b[1;33m\u001b[0m\u001b[1;33m\u001b[0m\u001b[0m\n\u001b[0;32m      3\u001b[0m \u001b[0mnames\u001b[0m \u001b[1;33m=\u001b[0m \u001b[1;33m[\u001b[0m\u001b[1;34m'Mon'\u001b[0m\u001b[1;33m,\u001b[0m \u001b[1;34m'Tue'\u001b[0m\u001b[1;33m,\u001b[0m \u001b[1;34m'Wed'\u001b[0m\u001b[1;33m,\u001b[0m \u001b[1;34m'Thu'\u001b[0m\u001b[1;33m,\u001b[0m \u001b[1;34m'Fri'\u001b[0m\u001b[1;33m,\u001b[0m \u001b[1;34m'Sat'\u001b[0m\u001b[1;33m,\u001b[0m\u001b[1;34m'Sun'\u001b[0m\u001b[1;33m]\u001b[0m\u001b[1;33m\u001b[0m\u001b[1;33m\u001b[0m\u001b[0m\n\u001b[0;32m      4\u001b[0m \u001b[0mplt\u001b[0m\u001b[1;33m.\u001b[0m\u001b[0mfigure\u001b[0m\u001b[1;33m(\u001b[0m\u001b[0mfigsize\u001b[0m\u001b[1;33m=\u001b[0m\u001b[1;33m(\u001b[0m\u001b[1;36m8\u001b[0m\u001b[1;33m,\u001b[0m\u001b[1;36m8\u001b[0m\u001b[1;33m)\u001b[0m\u001b[1;33m)\u001b[0m\u001b[1;33m\u001b[0m\u001b[1;33m\u001b[0m\u001b[0m\n\u001b[0;32m      5\u001b[0m \u001b[0mplt\u001b[0m\u001b[1;33m.\u001b[0m\u001b[0mscatter\u001b[0m\u001b[1;33m(\u001b[0m\u001b[1;33m-\u001b[0m\u001b[0mY\u001b[0m\u001b[1;33m[\u001b[0m\u001b[1;33m:\u001b[0m\u001b[1;33m,\u001b[0m \u001b[1;36m0\u001b[0m\u001b[1;33m]\u001b[0m\u001b[1;33m,\u001b[0m \u001b[1;33m-\u001b[0m\u001b[0mY\u001b[0m\u001b[1;33m[\u001b[0m\u001b[1;33m:\u001b[0m\u001b[1;33m,\u001b[0m \u001b[1;36m1\u001b[0m\u001b[1;33m]\u001b[0m\u001b[1;33m)\u001b[0m\u001b[1;33m\u001b[0m\u001b[1;33m\u001b[0m\u001b[0m\n",
      "\u001b[1;31mNameError\u001b[0m: name 'TSNE' is not defined"
     ]
    }
   ],
   "source": [
    "tsne = TSNE(n_components=2, random_state=1, learning_rate=10, n_iter=10000)\n",
    "Y = tsne.fit_transform(day_of_week_embedding)\n",
    "names = ['Mon', 'Tue', 'Wed', 'Thu', 'Fri', 'Sat','Sun']\n",
    "plt.figure(figsize=(8,8))\n",
    "plt.scatter(-Y[:, 0], -Y[:, 1])\n",
    "for i, txt in enumerate(names):\n",
    "    plt.annotate(txt, (-Y[i, 0],-Y[i, 1]), xytext = (-5, 8), textcoords = 'offset points')"
   ]
  },
  {
   "cell_type": "code",
   "execution_count": 91,
   "metadata": {},
   "outputs": [
    {
     "data": {
      "text/plain": [
       "['Store',\n",
       " 'DayOfWeek',\n",
       " 'Month',\n",
       " 'Events',\n",
       " 'Promo_fw',\n",
       " 'Promo_bw',\n",
       " 'StateHoliday_bool_fw',\n",
       " 'StateHoliday_bool_bw',\n",
       " 'SchoolHoliday_fw',\n",
       " 'SchoolHoliday_bw']"
      ]
     },
     "execution_count": 91,
     "metadata": {},
     "output_type": "execute_result"
    }
   ],
   "source": [
    "cat_vars"
   ]
  },
  {
   "cell_type": "markdown",
   "metadata": {},
   "source": [
    "## Store embeddings"
   ]
  },
  {
   "cell_type": "code",
   "execution_count": null,
   "metadata": {},
   "outputs": [],
   "source": []
  },
  {
   "cell_type": "code",
   "execution_count": null,
   "metadata": {},
   "outputs": [],
   "source": []
  },
  {
   "cell_type": "code",
   "execution_count": null,
   "metadata": {},
   "outputs": [],
   "source": [
    "merged = Concatenate(name='All_Concatenate')(cat_vars_embed_outs + cont_vars_inputs)"
   ]
  },
  {
   "cell_type": "code",
   "execution_count": 395,
   "metadata": {},
   "outputs": [
    {
     "data": {
      "text/plain": [
       "[<tf.Tensor 'Store_input_6:0' shape=(?, 1) dtype=float32>,\n",
       " <tf.Tensor 'DayOfWeek_input_6:0' shape=(?, 1) dtype=float32>,\n",
       " <tf.Tensor 'Year_input:0' shape=(?, 1) dtype=float32>,\n",
       " <tf.Tensor 'Month_input_6:0' shape=(?, 1) dtype=float32>,\n",
       " <tf.Tensor 'Day_input:0' shape=(?, 1) dtype=float32>,\n",
       " <tf.Tensor 'StateHoliday_input:0' shape=(?, 1) dtype=float32>,\n",
       " <tf.Tensor 'StoreType_input:0' shape=(?, 1) dtype=float32>,\n",
       " <tf.Tensor 'Assortment_input:0' shape=(?, 1) dtype=float32>,\n",
       " <tf.Tensor 'Week_input:0' shape=(?, 1) dtype=float32>,\n",
       " <tf.Tensor 'Events_input_4:0' shape=(?, 1) dtype=float32>,\n",
       " <tf.Tensor 'Promo_fw_input_6:0' shape=(?, 1) dtype=float32>,\n",
       " <tf.Tensor 'CompetitionOpenSinceYear_input:0' shape=(?, 1) dtype=float32>]"
      ]
     },
     "execution_count": 395,
     "metadata": {},
     "output_type": "execute_result"
    }
   ],
   "source": [
    "cat_var_inputs# + cont_vars_inputs"
   ]
  },
  {
   "cell_type": "code",
   "execution_count": 396,
   "metadata": {},
   "outputs": [],
   "source": [
    "submodel = Model(cat_var_inputs + cont_vars_inputs, merged)"
   ]
  },
  {
   "cell_type": "code",
   "execution_count": 397,
   "metadata": {},
   "outputs": [
    {
     "name": "stdout",
     "output_type": "stream",
     "text": [
      "Model: \"model_12\"\n",
      "__________________________________________________________________________________________________\n",
      "Layer (type)                    Output Shape         Param #     Connected to                     \n",
      "==================================================================================================\n",
      "Store_input (InputLayer)        [(None, 1)]          0                                            \n",
      "__________________________________________________________________________________________________\n",
      "DayOfWeek_input (InputLayer)    [(None, 1)]          0                                            \n",
      "__________________________________________________________________________________________________\n",
      "Year_input (InputLayer)         [(None, 1)]          0                                            \n",
      "__________________________________________________________________________________________________\n",
      "Month_input (InputLayer)        [(None, 1)]          0                                            \n",
      "__________________________________________________________________________________________________\n",
      "Day_input (InputLayer)          [(None, 1)]          0                                            \n",
      "__________________________________________________________________________________________________\n",
      "StateHoliday_input (InputLayer) [(None, 1)]          0                                            \n",
      "__________________________________________________________________________________________________\n",
      "StoreType_input (InputLayer)    [(None, 1)]          0                                            \n",
      "__________________________________________________________________________________________________\n",
      "Assortment_input (InputLayer)   [(None, 1)]          0                                            \n",
      "__________________________________________________________________________________________________\n",
      "Week_input (InputLayer)         [(None, 1)]          0                                            \n",
      "__________________________________________________________________________________________________\n",
      "Events_input (InputLayer)       [(None, 1)]          0                                            \n",
      "__________________________________________________________________________________________________\n",
      "Promo_fw_input (InputLayer)     [(None, 1)]          0                                            \n",
      "__________________________________________________________________________________________________\n",
      "CompetitionOpenSinceYear_input  [(None, 1)]          0                                            \n",
      "__________________________________________________________________________________________________\n",
      "Store_Embed (Embedding)         (None, 1, 50)        55750       Store_input[0][0]                \n",
      "__________________________________________________________________________________________________\n",
      "DayOfWeek_Embed (Embedding)     (None, 1, 6)         42          DayOfWeek_input[0][0]            \n",
      "__________________________________________________________________________________________________\n",
      "Year_Embed (Embedding)          (None, 1, 2)         6           Year_input[0][0]                 \n",
      "__________________________________________________________________________________________________\n",
      "Month_Embed (Embedding)         (None, 1, 6)         72          Month_input[0][0]                \n",
      "__________________________________________________________________________________________________\n",
      "Day_Embed (Embedding)           (None, 1, 10)        310         Day_input[0][0]                  \n",
      "__________________________________________________________________________________________________\n",
      "StateHoliday_Embed (Embedding)  (None, 1, 3)         12          StateHoliday_input[0][0]         \n",
      "__________________________________________________________________________________________________\n",
      "StoreType_Embed (Embedding)     (None, 1, 2)         8           StoreType_input[0][0]            \n",
      "__________________________________________________________________________________________________\n",
      "Assortment_Embed (Embedding)    (None, 1, 3)         9           Assortment_input[0][0]           \n",
      "__________________________________________________________________________________________________\n",
      "Week_Embed (Embedding)          (None, 1, 25)        1300        Week_input[0][0]                 \n",
      "__________________________________________________________________________________________________\n",
      "Events_Embed (Embedding)        (None, 1, 4)         88          Events_input[0][0]               \n",
      "__________________________________________________________________________________________________\n",
      "Promo_fw_Embed (Embedding)      (None, 1, 2)         12          Promo_fw_input[0][0]             \n",
      "__________________________________________________________________________________________________\n",
      "CompetitionOpenSinceYear_Embed  (None, 1, 4)         84          CompetitionOpenSinceYear_input[0]\n",
      "__________________________________________________________________________________________________\n",
      "Store_flat (Flatten)            (None, 50)           0           Store_Embed[0][0]                \n",
      "__________________________________________________________________________________________________\n",
      "DayOfWeek_flat (Flatten)        (None, 6)            0           DayOfWeek_Embed[0][0]            \n",
      "__________________________________________________________________________________________________\n",
      "Year_flat (Flatten)             (None, 2)            0           Year_Embed[0][0]                 \n",
      "__________________________________________________________________________________________________\n",
      "Month_flat (Flatten)            (None, 6)            0           Month_Embed[0][0]                \n",
      "__________________________________________________________________________________________________\n",
      "Day_flat (Flatten)              (None, 10)           0           Day_Embed[0][0]                  \n",
      "__________________________________________________________________________________________________\n",
      "StateHoliday_flat (Flatten)     (None, 3)            0           StateHoliday_Embed[0][0]         \n",
      "__________________________________________________________________________________________________\n",
      "StoreType_flat (Flatten)        (None, 2)            0           StoreType_Embed[0][0]            \n",
      "__________________________________________________________________________________________________\n",
      "Assortment_flat (Flatten)       (None, 3)            0           Assortment_Embed[0][0]           \n",
      "__________________________________________________________________________________________________\n",
      "Week_flat (Flatten)             (None, 25)           0           Week_Embed[0][0]                 \n",
      "__________________________________________________________________________________________________\n",
      "Events_flat (Flatten)           (None, 4)            0           Events_Embed[0][0]               \n",
      "__________________________________________________________________________________________________\n",
      "Promo_fw_flat (Flatten)         (None, 2)            0           Promo_fw_Embed[0][0]             \n",
      "__________________________________________________________________________________________________\n",
      "CompetitionOpenSinceYear_flat ( (None, 4)            0           CompetitionOpenSinceYear_Embed[0]\n",
      "__________________________________________________________________________________________________\n",
      "CompetitionDistance_input (Inpu [(None, 1)]          0                                            \n",
      "__________________________________________________________________________________________________\n",
      "Max_TemperatureC_input (InputLa [(None, 1)]          0                                            \n",
      "__________________________________________________________________________________________________\n",
      "Mean_TemperatureC_input (InputL [(None, 1)]          0                                            \n",
      "__________________________________________________________________________________________________\n",
      "Min_TemperatureC_input (InputLa [(None, 1)]          0                                            \n",
      "__________________________________________________________________________________________________\n",
      "Precipitationmm_input (InputLay [(None, 1)]          0                                            \n",
      "__________________________________________________________________________________________________\n",
      "Max_Humidity_input (InputLayer) [(None, 1)]          0                                            \n",
      "__________________________________________________________________________________________________\n",
      "Mean_Humidity_input (InputLayer [(None, 1)]          0                                            \n",
      "__________________________________________________________________________________________________\n",
      "Min_Humidity_input (InputLayer) [(None, 1)]          0                                            \n",
      "__________________________________________________________________________________________________\n",
      "Max_Wind_SpeedKm_h_input (Input [(None, 1)]          0                                            \n",
      "__________________________________________________________________________________________________\n",
      "Mean_Wind_SpeedKm_h_input (Inpu [(None, 1)]          0                                            \n",
      "__________________________________________________________________________________________________\n",
      "CloudCover_input (InputLayer)   [(None, 1)]          0                                            \n",
      "__________________________________________________________________________________________________\n",
      "trend_input (InputLayer)        [(None, 1)]          0                                            \n",
      "__________________________________________________________________________________________________\n",
      "trend_DE_input (InputLayer)     [(None, 1)]          0                                            \n",
      "__________________________________________________________________________________________________\n",
      "AfterStateHoliday_bool_input (I [(None, 1)]          0                                            \n",
      "__________________________________________________________________________________________________\n",
      "BeforeStateHoliday_bool_input ( [(None, 1)]          0                                            \n",
      "__________________________________________________________________________________________________\n",
      "Promo_input (InputLayer)        [(None, 1)]          0                                            \n",
      "__________________________________________________________________________________________________\n",
      "SchoolHoliday_input (InputLayer [(None, 1)]          0                                            \n",
      "__________________________________________________________________________________________________\n",
      "All_Concatenate (Concatenate)   (None, 134)          0           Store_flat[0][0]                 \n",
      "                                                                 DayOfWeek_flat[0][0]             \n",
      "                                                                 Year_flat[0][0]                  \n",
      "                                                                 Month_flat[0][0]                 \n",
      "                                                                 Day_flat[0][0]                   \n",
      "                                                                 StateHoliday_flat[0][0]          \n",
      "                                                                 StoreType_flat[0][0]             \n",
      "                                                                 Assortment_flat[0][0]            \n",
      "                                                                 Week_flat[0][0]                  \n",
      "                                                                 Events_flat[0][0]                \n",
      "                                                                 Promo_fw_flat[0][0]              \n",
      "                                                                 CompetitionOpenSinceYear_flat[0][\n",
      "                                                                 CompetitionDistance_input[0][0]  \n",
      "                                                                 Max_TemperatureC_input[0][0]     \n",
      "                                                                 Mean_TemperatureC_input[0][0]    \n",
      "                                                                 Min_TemperatureC_input[0][0]     \n",
      "                                                                 Precipitationmm_input[0][0]      \n",
      "                                                                 Max_Humidity_input[0][0]         \n",
      "                                                                 Mean_Humidity_input[0][0]        \n",
      "                                                                 Min_Humidity_input[0][0]         \n",
      "                                                                 Max_Wind_SpeedKm_h_input[0][0]   \n",
      "                                                                 Mean_Wind_SpeedKm_h_input[0][0]  \n",
      "                                                                 CloudCover_input[0][0]           \n",
      "                                                                 trend_input[0][0]                \n",
      "                                                                 trend_DE_input[0][0]             \n",
      "                                                                 AfterStateHoliday_bool_input[0][0\n",
      "                                                                 BeforeStateHoliday_bool_input[0][\n",
      "                                                                 Promo_input[0][0]                \n",
      "                                                                 SchoolHoliday_input[0][0]        \n",
      "==================================================================================================\n",
      "Total params: 57,693\n",
      "Trainable params: 57,693\n",
      "Non-trainable params: 0\n",
      "__________________________________________________________________________________________________\n"
     ]
    }
   ],
   "source": [
    "submodel.summary()"
   ]
  },
  {
   "cell_type": "code",
   "execution_count": 398,
   "metadata": {},
   "outputs": [],
   "source": [
    "submodel.save('embeddings_modelfound.hdf5')"
   ]
  },
  {
   "cell_type": "code",
   "execution_count": null,
   "metadata": {},
   "outputs": [],
   "source": []
  }
 ],
 "metadata": {
  "kernelspec": {
   "display_name": "Python 3 (ipykernel)",
   "language": "python",
   "name": "python3"
  },
  "language_info": {
   "codemirror_mode": {
    "name": "ipython",
    "version": 3
   },
   "file_extension": ".py",
   "mimetype": "text/x-python",
   "name": "python",
   "nbconvert_exporter": "python",
   "pygments_lexer": "ipython3",
   "version": "3.7.16"
  }
 },
 "nbformat": 4,
 "nbformat_minor": 4
}
